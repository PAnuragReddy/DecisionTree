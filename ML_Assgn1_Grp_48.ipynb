{
 "cells": [
  {
   "cell_type": "markdown",
   "id": "eb1ab48f",
   "metadata": {},
   "source": [
    "# Group -48\n",
    "## P Anurag Reddy - 19CS30032\n",
    "## Shashank Suroju - 19CS10061"
   ]
  },
  {
   "cell_type": "markdown",
   "id": "23ce7339",
   "metadata": {},
   "source": [
    "# Imports"
   ]
  },
  {
   "cell_type": "code",
   "execution_count": 1,
   "id": "89ee1e39",
   "metadata": {},
   "outputs": [],
   "source": [
    "import numpy as np # linear algebra\n",
    "import pandas as pd # data processing, CSV file I/O (e.g. pd.read_csv)\n",
    "from itertools import combinations # To create combinations from a given list\n",
    "from sklearn.model_selection import train_test_split # To split training data into training and testing sets\n",
    "from sklearn.metrics import accuracy_score # To measure accuracy of the model\n",
    "import random # To get random numbers\n",
    "from matplotlib import pyplot as plt # To draw plots"
   ]
  },
  {
   "cell_type": "code",
   "execution_count": 2,
   "id": "d78ab262",
   "metadata": {},
   "outputs": [],
   "source": [
    "#names of all the columns in the dataset\n",
    "columns = ['Age','Sex','Chest Pain Type','Resting BP','Serum Cholestoral',\n",
    "           'Fasting Blood Sugar','Resting ECG Results','Max Heart Rate',\n",
    "           'Exe Induced Angina','Oldpeak','Slope of the peak exercise ST segment',\n",
    "           'No of major vessels colored by flourosopy','thal','Y']"
   ]
  },
  {
   "cell_type": "code",
   "execution_count": 4,
   "id": "940eaeb3",
   "metadata": {},
   "outputs": [],
   "source": [
    "#reading data into a pandas dataframe\n",
    "data = pd.read_csv('heart.dat',sep=' ',header=None,names=columns)"
   ]
  },
  {
   "cell_type": "code",
   "execution_count": 5,
   "id": "90dba143",
   "metadata": {},
   "outputs": [
    {
     "data": {
      "text/html": [
       "<div>\n",
       "<style scoped>\n",
       "    .dataframe tbody tr th:only-of-type {\n",
       "        vertical-align: middle;\n",
       "    }\n",
       "\n",
       "    .dataframe tbody tr th {\n",
       "        vertical-align: top;\n",
       "    }\n",
       "\n",
       "    .dataframe thead th {\n",
       "        text-align: right;\n",
       "    }\n",
       "</style>\n",
       "<table border=\"1\" class=\"dataframe\">\n",
       "  <thead>\n",
       "    <tr style=\"text-align: right;\">\n",
       "      <th></th>\n",
       "      <th>Age</th>\n",
       "      <th>Sex</th>\n",
       "      <th>Chest Pain Type</th>\n",
       "      <th>Resting BP</th>\n",
       "      <th>Serum Cholestoral</th>\n",
       "      <th>Fasting Blood Sugar</th>\n",
       "      <th>Resting ECG Results</th>\n",
       "      <th>Max Heart Rate</th>\n",
       "      <th>Exe Induced Angina</th>\n",
       "      <th>Oldpeak</th>\n",
       "      <th>Slope of the peak exercise ST segment</th>\n",
       "      <th>No of major vessels colored by flourosopy</th>\n",
       "      <th>thal</th>\n",
       "      <th>Y</th>\n",
       "    </tr>\n",
       "  </thead>\n",
       "  <tbody>\n",
       "    <tr>\n",
       "      <th>0</th>\n",
       "      <td>70.0</td>\n",
       "      <td>1.0</td>\n",
       "      <td>4.0</td>\n",
       "      <td>130.0</td>\n",
       "      <td>322.0</td>\n",
       "      <td>0.0</td>\n",
       "      <td>2.0</td>\n",
       "      <td>109.0</td>\n",
       "      <td>0.0</td>\n",
       "      <td>2.4</td>\n",
       "      <td>2.0</td>\n",
       "      <td>3.0</td>\n",
       "      <td>3.0</td>\n",
       "      <td>2</td>\n",
       "    </tr>\n",
       "    <tr>\n",
       "      <th>1</th>\n",
       "      <td>67.0</td>\n",
       "      <td>0.0</td>\n",
       "      <td>3.0</td>\n",
       "      <td>115.0</td>\n",
       "      <td>564.0</td>\n",
       "      <td>0.0</td>\n",
       "      <td>2.0</td>\n",
       "      <td>160.0</td>\n",
       "      <td>0.0</td>\n",
       "      <td>1.6</td>\n",
       "      <td>2.0</td>\n",
       "      <td>0.0</td>\n",
       "      <td>7.0</td>\n",
       "      <td>1</td>\n",
       "    </tr>\n",
       "    <tr>\n",
       "      <th>2</th>\n",
       "      <td>57.0</td>\n",
       "      <td>1.0</td>\n",
       "      <td>2.0</td>\n",
       "      <td>124.0</td>\n",
       "      <td>261.0</td>\n",
       "      <td>0.0</td>\n",
       "      <td>0.0</td>\n",
       "      <td>141.0</td>\n",
       "      <td>0.0</td>\n",
       "      <td>0.3</td>\n",
       "      <td>1.0</td>\n",
       "      <td>0.0</td>\n",
       "      <td>7.0</td>\n",
       "      <td>2</td>\n",
       "    </tr>\n",
       "    <tr>\n",
       "      <th>3</th>\n",
       "      <td>64.0</td>\n",
       "      <td>1.0</td>\n",
       "      <td>4.0</td>\n",
       "      <td>128.0</td>\n",
       "      <td>263.0</td>\n",
       "      <td>0.0</td>\n",
       "      <td>0.0</td>\n",
       "      <td>105.0</td>\n",
       "      <td>1.0</td>\n",
       "      <td>0.2</td>\n",
       "      <td>2.0</td>\n",
       "      <td>1.0</td>\n",
       "      <td>7.0</td>\n",
       "      <td>1</td>\n",
       "    </tr>\n",
       "    <tr>\n",
       "      <th>4</th>\n",
       "      <td>74.0</td>\n",
       "      <td>0.0</td>\n",
       "      <td>2.0</td>\n",
       "      <td>120.0</td>\n",
       "      <td>269.0</td>\n",
       "      <td>0.0</td>\n",
       "      <td>2.0</td>\n",
       "      <td>121.0</td>\n",
       "      <td>1.0</td>\n",
       "      <td>0.2</td>\n",
       "      <td>1.0</td>\n",
       "      <td>1.0</td>\n",
       "      <td>3.0</td>\n",
       "      <td>1</td>\n",
       "    </tr>\n",
       "  </tbody>\n",
       "</table>\n",
       "</div>"
      ],
      "text/plain": [
       "    Age  Sex  Chest Pain Type  Resting BP  Serum Cholestoral  \\\n",
       "0  70.0  1.0              4.0       130.0              322.0   \n",
       "1  67.0  0.0              3.0       115.0              564.0   \n",
       "2  57.0  1.0              2.0       124.0              261.0   \n",
       "3  64.0  1.0              4.0       128.0              263.0   \n",
       "4  74.0  0.0              2.0       120.0              269.0   \n",
       "\n",
       "   Fasting Blood Sugar  Resting ECG Results  Max Heart Rate  \\\n",
       "0                  0.0                  2.0           109.0   \n",
       "1                  0.0                  2.0           160.0   \n",
       "2                  0.0                  0.0           141.0   \n",
       "3                  0.0                  0.0           105.0   \n",
       "4                  0.0                  2.0           121.0   \n",
       "\n",
       "   Exe Induced Angina  Oldpeak  Slope of the peak exercise ST segment  \\\n",
       "0                 0.0      2.4                                    2.0   \n",
       "1                 0.0      1.6                                    2.0   \n",
       "2                 0.0      0.3                                    1.0   \n",
       "3                 1.0      0.2                                    2.0   \n",
       "4                 1.0      0.2                                    1.0   \n",
       "\n",
       "   No of major vessels colored by flourosopy  thal  Y  \n",
       "0                                        3.0   3.0  2  \n",
       "1                                        0.0   7.0  1  \n",
       "2                                        0.0   7.0  2  \n",
       "3                                        1.0   7.0  1  \n",
       "4                                        1.0   3.0  1  "
      ]
     },
     "execution_count": 5,
     "metadata": {},
     "output_type": "execute_result"
    }
   ],
   "source": [
    "#printing the first five columns of the dataset\n",
    "data.head()"
   ]
  },
  {
   "cell_type": "code",
   "execution_count": 6,
   "id": "53b9f905",
   "metadata": {},
   "outputs": [],
   "source": [
    "#index of columns with real feature values\n",
    "cont_feat = [0,3,4,7,9]"
   ]
  },
  {
   "cell_type": "markdown",
   "id": "d3aab3bd",
   "metadata": {},
   "source": [
    "# Question 1"
   ]
  },
  {
   "cell_type": "code",
   "execution_count": 7,
   "id": "b0ee8334",
   "metadata": {},
   "outputs": [],
   "source": [
    "#class node to define the structure of each node\n",
    "class Node():\n",
    "    def __init__(self, feature_index=None, threshold=None, dataset=None , left=None, right=None, parent=None, info_gain=None, value=None, status = 0):\n",
    "        ''' constructor for the node class ''' \n",
    "        \n",
    "        # for decision node\n",
    "        self.feature_index = feature_index #the index of feature based on which we are splitting at this node\n",
    "        self.threshold = threshold #the threshold with respect to which we are splitting\n",
    "        self.dataset = dataset #the dataset which is to be used for splitting a given node\n",
    "        self.left = left #left-child of the node\n",
    "        self.right = right #right-child of the node\n",
    "        self.parent = parent #parent of the node\n",
    "        self.info_gain = info_gain #amount of information gained by split at this node\n",
    "        self.status = status # variable to keep track if the node was checked during pruning\n",
    "        \n",
    "        # for leaf node\n",
    "        self.value = value # classification of the leaf node"
   ]
  },
  {
   "cell_type": "code",
   "execution_count": 8,
   "id": "2857fc2c",
   "metadata": {},
   "outputs": [],
   "source": [
    "# class decision tree to make the classifier\n",
    "class DecisionTreeClassifier():\n",
    "    def __init__(self, min_samples_split=2, max_depth=2, mode=\"gini\"):\n",
    "        ''' constructor '''\n",
    "        \n",
    "        # initialize the root of the tree \n",
    "        self.root = None\n",
    "        self.mode = mode\n",
    "        self.depth = 0\n",
    "        self.nodes = 1\n",
    "        # stopping conditions\n",
    "        self.min_samples_split = min_samples_split\n",
    "        self.max_depth = max_depth       \n",
    "    \n",
    "    def get_root(self):\n",
    "        '''Returns the root node of the tree when called'''\n",
    "        return self.root\n",
    "    \n",
    "    def get_depth(self):\n",
    "        '''Returns the depth of the tree when called'''\n",
    "        return self.depth\n",
    "    \n",
    "    def get_num_nodes(self):\n",
    "        '''Returns the number of the nodes in the tree when called '''\n",
    "        return self.nodes\n",
    "    \n",
    "    def entropy(self, y):\n",
    "        ''' Computes the entroy of a particualr node '''\n",
    "        \n",
    "        cls_lbls = np.unique(y) # Getting different classes from Y\n",
    "        enpy = 0 \n",
    "        for cls in cls_lbls:\n",
    "            prob_cls = len(y[y == cls]) / len(y) # calculating the probability of a class\n",
    "            enpy += -prob_cls * np.log2(prob_cls) # calculating entropy\n",
    "        return enpy\n",
    "    \n",
    "    def gini_index(self, y):\n",
    "        ''' Computes the gini index of a particualr node '''\n",
    "        \n",
    "        cls_lbls = np.unique(y) # Getting different classes from Y\n",
    "        gini = 0\n",
    "        for cls in cls_lbls:\n",
    "            prob_cls = len(y[y == cls]) / len(y) # calculating the probability of a class\n",
    "            gini += prob_cls**2 # calculating gini index\n",
    "        return(1 - gini)\n",
    "        \n",
    "    def information_gain(self, pnt, lt_cld, rt_cld, mode=\"enpy\"):\n",
    "        ''' Given parent node, children nodes and the mode of impurity measurement calculates the information gain'''\n",
    "        \n",
    "        wt_l = len(lt_cld) / len(pnt) # calculating the weight of left child\n",
    "        wt_r = len(rt_cld) / len(pnt) # calculating the weight of right child\n",
    "        if mode==\"gini\":\n",
    "            inf_gain = self.gini_index(pnt) - (wt_l*self.gini_index(lt_cld) + wt_r*self.gini_index(rt_cld))\n",
    "        else:\n",
    "            inf_gain = self.entropy(pnt) - (wt_l*self.entropy(lt_cld) + wt_r*self.entropy(rt_cld))\n",
    "        return inf_gain\n",
    "    \n",
    "    def get_best_split(self, d_set, num_smpls, num_ftrs):\n",
    "        ''' Given the dataset, number  of samples and number of features at a node\n",
    "            splits the dataset into left and right dataset based on a attribute and threshold computed'''\n",
    "        \n",
    "        bst_splt = {} # dictionary to store the best split\n",
    "        max_inf_gain = -float(\"inf\") # Initialising to a least value\n",
    "        \n",
    "        # loop over all the features\n",
    "        for ftr_idx in range(num_ftrs): # looping over all feature indices\n",
    "            ftr_vals = d_set[:, ftr_idx] # extracting all the rows of a feature index\n",
    "            poss_thres = np.unique(ftr_vals) # extracting set of unique values from feature values\n",
    "            if ftr_idx in cont_feat: # if feature has real feature values\n",
    "                for thres in poss_thres:# loop over all the possible threshold values \n",
    "                    d_set_lft, d_set_rt = self.split(d_set, ftr_idx, thres) # getting a split using the current threshold value and current feature index\n",
    "                    if len(d_set_lft)>0 and len(d_set_rt)>0: # checking if children are not empty\n",
    "                        y, lft_y, rt_y = d_set[:, -1], d_set_lft[:, -1], d_set_rt[:, -1] # extracting the target values from all the data sets\n",
    "                        curr_inf_gain = self.information_gain(y, lft_y, rt_y, self.mode) # computing information gain from all the target values extracted\n",
    "                        if curr_inf_gain>max_inf_gain: # if current info gain is greater than max info gain then update best split \n",
    "                            bst_splt[\"feature_index\"] = ftr_idx\n",
    "                            bst_splt[\"threshold\"] = thres\n",
    "                            bst_splt[\"dataset_left\"] = d_set_lft\n",
    "                            bst_splt[\"dataset_right\"] = d_set_rt\n",
    "                            bst_splt[\"info_gain\"] = curr_inf_gain\n",
    "                            max_inf_gain = curr_inf_gain\n",
    "            else: # if feature has nominal values\n",
    "                vals = list(poss_thres) # list of all possible nominal values\n",
    "                n = len(vals) # size of the list\n",
    "                combs = [] # list to store all possible combinations of feature values\n",
    "                for i in range(1,n//2+1):\n",
    "                    comb = combinations(vals, i)\n",
    "                    for j in list(comb):\n",
    "                        cpy = vals.copy()\n",
    "                        temp = []\n",
    "                        temp.append(j)\n",
    "                        for ele in j:\n",
    "                            cpy.remove(ele)\n",
    "                        temp.append(tuple(cpy))\n",
    "                        combs.append(temp)\n",
    "                # combinations are in the form of list of list of two tupples, the two tupples is the division of feature values into two sets\n",
    "                for thres in combs:# loop over all the possible threshold values \n",
    "                    d_set_lft, d_set_rt = self.split(d_set, ftr_idx, thres) # getting a split using the current threshold value and current feature index\n",
    "                    if len(d_set_lft)>0 and len(d_set_rt)>0: # checking if children are not empty\n",
    "                        y, lft_y, rt_y = d_set[:, -1], d_set_lft[:, -1], d_set_rt[:, -1] # extracting the target values from all the data sets\n",
    "                        curr_inf_gain = self.information_gain(y, lft_y, rt_y, self.mode) # computing information gain from all the target values extracted\n",
    "                        if curr_inf_gain>max_inf_gain: # if current info gain is greater than max info gain then update best split \n",
    "                            bst_splt[\"feature_index\"] = ftr_idx\n",
    "                            bst_splt[\"threshold\"] = thres\n",
    "                            bst_splt[\"dataset_left\"] = d_set_lft\n",
    "                            bst_splt[\"dataset_right\"] = d_set_rt\n",
    "                            bst_splt[\"info_gain\"] = curr_inf_gain\n",
    "                            max_inf_gain = curr_inf_gain\n",
    "        # return best split\n",
    "        return bst_splt\n",
    "    \n",
    "    def split(self, d_set, ftr_idx, thres):\n",
    "        ''' Splits the data into left and right subsets based on threshold and feature index'''\n",
    "        if isinstance(thres,list): # checking if threshold is a list thereby checking if feature values are nominal or real\n",
    "            d_set_lft = np.array([row for row in d_set if row[ftr_idx] in thres[0]])\n",
    "            d_set_rt = np.array([row for row in d_set if row[ftr_idx] in thres[1]])\n",
    "        else:\n",
    "            d_set_lft = np.array([row for row in d_set if row[ftr_idx]<=thres])\n",
    "            d_set_rt = np.array([row for row in d_set if row[ftr_idx]>thres])\n",
    "        return d_set_lft, d_set_rt\n",
    "    \n",
    "    def build_tree(self, d_set, curr_depth=0):\n",
    "        ''' Builds the tree recursively until the stopping conditions are met ''' \n",
    "        \n",
    "        X, Y = d_set[:,:-1], d_set[:,-1] # dividing the dataset into features and target value\n",
    "        num_smpl, num_ftr = np.shape(X) # extracting the number of samples and number of features from X\n",
    "        \n",
    "        # split until stopping conditions are met\n",
    "        if num_smpl>=self.min_samples_split and curr_depth<self.max_depth:\n",
    "            \n",
    "            bst_splt = self.get_best_split(d_set, num_smpl, num_ftr)# finding the best split\n",
    "            if bst_splt[\"info_gain\"]>0: # checking if information gain of the node is positive\n",
    "                lft_subtree = self.build_tree(bst_splt[\"dataset_left\"], curr_depth+1) # recursively building left subtree\n",
    "                self.nodes += 1 # adding 1 to the number of nodes\n",
    "                rt_subtree = self.build_tree(bst_splt[\"dataset_right\"], curr_depth+1) # recursively building right subtree\n",
    "                self.nodes += 1 # adding 1 to the number of nodes\n",
    "                return Node(bst_splt[\"feature_index\"], bst_splt[\"threshold\"], d_set ,lft_subtree, rt_subtree, None ,bst_splt[\"info_gain\"]) # returning the decision node\n",
    "                \n",
    "        if curr_depth > self.depth: # updating the depth of the tree\n",
    "            self.depth = curr_depth\n",
    "        \n",
    "        leaf_value = self.calculate_leaf_value(Y) # computing the classification of leaf node based on target values of the node\n",
    "        return Node(value=leaf_value) # returning the leaf node\n",
    "            \n",
    "    def calculate_leaf_value(self, Y):\n",
    "        ''' Computing the classification of leaf node based on target values of the node '''\n",
    "        \n",
    "        Y = list(Y) # converting from numpy array to list \n",
    "        return max(Y, key=Y.count) # returning the label with most count\n",
    "    \n",
    "    def print_tree(self, tree=None, indent=\"    \", count=1):\n",
    "        ''' function to print the tree '''\n",
    "        flag = 0             # Flag if current node is root\n",
    "        if not tree:         # If tree is none then make it root of tree \n",
    "            print(\"Root\")\n",
    "            tree = self.root\n",
    "            flag = 1\n",
    "\n",
    "        if tree.value is not None:      # If current node is not leaf node the print the result\n",
    "            if(int(tree.value) == 2):\n",
    "                print(str(tree.value) + \" Presence of heart disease\")\n",
    "            else:\n",
    "                print(str(tree.value) + \" Absence of heart disease\")\n",
    "\n",
    "        else:\n",
    "            #self.print_details()\n",
    "            var = columns[tree.feature_index]     # To store current attribute name\n",
    "            var2 = (tree.info_gain)               # To store the information gain\n",
    "            print(\"Attribute:\" , var)             # printing Attribute\n",
    "            if(flag == 1):                        # If current node is root\n",
    "                print(\"Information gain:\", var2)\n",
    "                if isinstance(tree.threshold, list):    # checking the instance of threshold and printing the spliting rule\n",
    "                    print(\"Spliting rule: If Attr =\", tree.threshold[0], \"then left, If Attr =\",tree.threshold[1], \"then right\")\n",
    "                else:\n",
    "                    print(\"Spliting rule: If Attr <=\", tree.threshold, \"then left, else right\")\n",
    "            else:                                 # If it is not root node\n",
    "                print((indent), \"    Information gain:\", var2)\n",
    "                if isinstance(tree.threshold, list):   # checking the instance of threshold and printing the spliting rule\n",
    "                    print((indent), \"    Spliting rule: If Attr =\", tree.threshold[0], \"then left, If Attr =\",tree.threshold[1], \"then right\")\n",
    "                else:\n",
    "                    print((indent), \"    Spliting rule: If Attr <=\", tree.threshold, \"then left, else right\")\n",
    "            \n",
    "            print(\"|-\"+\"-\"*count + \"-->left:\",  end=\" \")\n",
    "            self.print_tree(tree.left, indent + \"    \", count+4)       # recursively call left child of the node\n",
    "            print(\"|-\"+\"-\"*count + \"-->right:\",  end=\"\")\n",
    "            self.print_tree(tree.right, indent + \"    \", count+4)      # recursively call right child of the node\n",
    "    \n",
    "    def fit(self, X, Y):\n",
    "        ''' Calls build tree and stores the root node to root of tree '''\n",
    "        \n",
    "        d_set = np.concatenate((X, Y), axis=1)\n",
    "        self.root = self.build_tree(d_set)\n",
    "        self.point()\n",
    "    \n",
    "    def predict(self,X, root=None):\n",
    "        ''' Calls make_prediction for every value of X which is the validation set '''\n",
    "        if root == None:\n",
    "            root = self.root\n",
    "        preds = [self.make_prediction(x, root) for x in X]\n",
    "        return preds\n",
    "    \n",
    "    def make_prediction(self, x, node):\n",
    "        ''' Recursively traverses the tree to find the appropriate leaf node '''\n",
    "        \n",
    "        if node.value != None: # if it is a leaf node then return the classification\n",
    "            return node.value\n",
    "        \n",
    "        ftr_val = x[node.feature_index] # getting the feature index of the node\n",
    "        \n",
    "        if isinstance(node.threshold,list): # checking if feature values are nominal or real\n",
    "            if ftr_val in node.threshold[0]:\n",
    "                return self.make_prediction(x, node.left) # traversing to left child \n",
    "            else:\n",
    "                return self.make_prediction(x, node.right) # traversing to right child \n",
    "        else:\n",
    "            if ftr_val<=node.threshold:\n",
    "                return self.make_prediction(x, node.left) # traversing to left child \n",
    "            else:\n",
    "                return self.make_prediction(x, node.right) # traversing to right child \n",
    "    \n",
    "    def point(self, node=None):\n",
    "        ''' Traverses the complete tree and points the children to their respective parents'''\n",
    "        \n",
    "        if node == None:\n",
    "            node = self.root\n",
    "            left = node.left\n",
    "            right = node.right\n",
    "            left.parent = node\n",
    "            right.parent = node\n",
    "            self.point(left)\n",
    "            self.point(right)\n",
    "        else:\n",
    "            if(node.left != None):\n",
    "                left = node.left\n",
    "                left.parent = node\n",
    "                self.point(left)\n",
    "            if(node.right != None):\n",
    "                right = node.right\n",
    "                right.parent = node\n",
    "                self.point(right)\n",
    "        \n",
    "        \n"
   ]
  },
  {
   "cell_type": "code",
   "execution_count": 9,
   "id": "4d3b6070",
   "metadata": {},
   "outputs": [],
   "source": [
    "X = data.iloc[:, :-1].values\n",
    "Y = data.iloc[:, -1].values.reshape(-1,1)\n",
    "X_train, X_test, Y_train, Y_test = train_test_split(X, Y, test_size=.2, random_state=391)"
   ]
  },
  {
   "cell_type": "code",
   "execution_count": 10,
   "id": "01436d2c",
   "metadata": {},
   "outputs": [],
   "source": [
    "gini_classifier = DecisionTreeClassifier(max_depth=100, mode = \"gini\")\n",
    "enpy_classifier = DecisionTreeClassifier(max_depth=100, mode = \"enpy\")\n",
    "gini_classifier.fit(X_train,Y_train)\n",
    "enpy_classifier.fit(X_train,Y_train)"
   ]
  },
  {
   "cell_type": "code",
   "execution_count": 11,
   "id": "fe49a42b",
   "metadata": {},
   "outputs": [
    {
     "name": "stdout",
     "output_type": "stream",
     "text": [
      "0.7222222222222222\n",
      "0.6666666666666666\n"
     ]
    }
   ],
   "source": [
    "gini_Y_pred = gini_classifier.predict(X_test) \n",
    "print(accuracy_score(Y_test, gini_Y_pred))\n",
    "\n",
    "enpy_Y_pred = enpy_classifier.predict(X_test) \n",
    "print(accuracy_score(Y_test, enpy_Y_pred))"
   ]
  },
  {
   "cell_type": "markdown",
   "id": "de2046d0",
   "metadata": {},
   "source": [
    "### Since the prediction accuracy of classifier using Gini Index as Impurity measure is more. We are building future classifiers in this assignment using Gini Index."
   ]
  },
  {
   "cell_type": "markdown",
   "id": "8c5816f7",
   "metadata": {},
   "source": [
    "# Question 2"
   ]
  },
  {
   "cell_type": "code",
   "execution_count": 25,
   "id": "8d14e7f7",
   "metadata": {},
   "outputs": [],
   "source": [
    "randomlist = random.sample(range(0,1000), 10)\n",
    "gini_classifiers = []\n",
    "gini_accu = []\n",
    "gini_depths = []\n",
    "gini_nodes = []\n",
    "for i in range(10):\n",
    "    gini_X_train, gini_X_test, gini_Y_train, gini_Y_test = train_test_split(X, Y, test_size=.2, random_state=randomlist[i])\n",
    "    gini_classifier = DecisionTreeClassifier(max_depth=100, mode = \"gini\")\n",
    "    gini_classifier.fit(gini_X_train,gini_Y_train)\n",
    "    gini_classifiers.append(gini_classifier)\n",
    "    gini_Y_pred = gini_classifier.predict(gini_X_test) \n",
    "    gini_accu.append(accuracy_score(gini_Y_test, gini_Y_pred))\n",
    "    gini_depths.append(gini_classifier.get_depth())\n",
    "    gini_nodes.append(gini_classifier.get_num_nodes())\n",
    "    "
   ]
  },
  {
   "cell_type": "code",
   "execution_count": 26,
   "id": "134a34c1",
   "metadata": {},
   "outputs": [
    {
     "name": "stdout",
     "output_type": "stream",
     "text": [
      "Average Accuracy:  0.7555555555555555\n"
     ]
    }
   ],
   "source": [
    "print(\"Average Accuracy: \",sum(gini_accu)/len(gini_accu))"
   ]
  },
  {
   "cell_type": "code",
   "execution_count": 27,
   "id": "20741460",
   "metadata": {},
   "outputs": [],
   "source": [
    "maxpos = gini_accu.index(max(gini_accu)) # Index of classifier with maximum accuracy"
   ]
  },
  {
   "cell_type": "code",
   "execution_count": 28,
   "id": "03ce800e",
   "metadata": {},
   "outputs": [
    {
     "data": {
      "text/plain": [
       "[0.7592592592592593,\n",
       " 0.7407407407407407,\n",
       " 0.7962962962962963,\n",
       " 0.7592592592592593,\n",
       " 0.6851851851851852,\n",
       " 0.7777777777777778,\n",
       " 0.7407407407407407,\n",
       " 0.7407407407407407,\n",
       " 0.7962962962962963,\n",
       " 0.7592592592592593]"
      ]
     },
     "execution_count": 28,
     "metadata": {},
     "output_type": "execute_result"
    }
   ],
   "source": [
    "gini_accu"
   ]
  },
  {
   "cell_type": "code",
   "execution_count": 29,
   "id": "a68eb54b",
   "metadata": {},
   "outputs": [
    {
     "name": "stdout",
     "output_type": "stream",
     "text": [
      "0.7962962962962963\n"
     ]
    }
   ],
   "source": [
    "X_train, X_test, Y_train, Y_test = train_test_split(X, Y, test_size=.2, random_state=randomlist[maxpos])\n",
    "classifier = DecisionTreeClassifier(max_depth=100, mode = \"gini\")\n",
    "classifier.fit(X_train,Y_train)\n",
    "Y_pred = classifier.predict(X_test)\n",
    "acc = accuracy_score(Y_test, Y_pred)\n",
    "print(acc)"
   ]
  },
  {
   "cell_type": "markdown",
   "id": "db5e5752",
   "metadata": {},
   "source": [
    "# Question 3"
   ]
  },
  {
   "cell_type": "code",
   "execution_count": 39,
   "id": "e58d20a7",
   "metadata": {},
   "outputs": [],
   "source": [
    "x = []\n",
    "y = []\n",
    "for depth in range(1,15): \n",
    "    gini_X_train, gini_X_test, gini_Y_train, gini_Y_test = train_test_split(X, Y, test_size=.2, random_state=randomlist[maxpos])\n",
    "    gini_classifier = DecisionTreeClassifier(max_depth=depth, mode = \"gini\")\n",
    "    gini_classifier.fit(gini_X_train,gini_Y_train)\n",
    "    gini_Y_pred = gini_classifier.predict(gini_X_test)\n",
    "    x.append(depth)\n",
    "    y.append(accuracy_score(gini_Y_test, gini_Y_pred))"
   ]
  },
  {
   "cell_type": "code",
   "execution_count": 42,
   "id": "a271efbe",
   "metadata": {},
   "outputs": [
    {
     "name": "stdout",
     "output_type": "stream",
     "text": [
      "3\n"
     ]
    }
   ],
   "source": [
    "depth = y.index(max(y))+1\n",
    "print(depth)"
   ]
  },
  {
   "cell_type": "code",
   "execution_count": 43,
   "id": "ce9ab3aa",
   "metadata": {},
   "outputs": [
    {
     "name": "stdout",
     "output_type": "stream",
     "text": [
      "0.8703703703703703\n"
     ]
    }
   ],
   "source": [
    "X_train, X_test, Y_train, Y_test = train_test_split(X, Y, test_size=.2, random_state=randomlist[maxpos])\n",
    "best_classifier = DecisionTreeClassifier(max_depth=depth, mode = \"gini\")\n",
    "best_classifier.fit(X_train,Y_train)\n",
    "Y_pred = best_classifier.predict(X_test)\n",
    "acc = accuracy_score(Y_test, Y_pred)\n",
    "print(acc)"
   ]
  },
  {
   "cell_type": "code",
   "execution_count": 44,
   "id": "c0204366",
   "metadata": {},
   "outputs": [
    {
     "data": {
      "image/png": "[encoded data removed]",
      "text/plain": [
       "<Figure size 432x288 with 1 Axes>"
      ]
     },
     "metadata": {
      "needs_background": "light"
     },
     "output_type": "display_data"
    }
   ],
   "source": [
    "plt.plot(x,y)\n",
    "plt.xlabel('Depth')\n",
    "plt.ylabel('Accuracy')\n",
    "plt.show()"
   ]
  },
  {
   "cell_type": "code",
   "execution_count": 32,
   "id": "599416cc",
   "metadata": {},
   "outputs": [],
   "source": [
    "dct = {}\n",
    "for i in range(10):\n",
    "    dct[i] = gini_nodes[i]\n",
    "\n",
    "dct = dict(sorted(dct.items(), key =lambda kv:(kv[1], kv[0])))\n",
    "x = []\n",
    "y = []\n",
    "for k,v in dct.items() :\n",
    "    x.append(v)\n",
    "    y.append(gini_accu[k])\n"
   ]
  },
  {
   "cell_type": "code",
   "execution_count": 33,
   "id": "4539953e",
   "metadata": {},
   "outputs": [
    {
     "data": {
      "image/png": "[encoded data removed]",
      "text/plain": [
       "<Figure size 432x288 with 1 Axes>"
      ]
     },
     "metadata": {
      "needs_background": "light"
     },
     "output_type": "display_data"
    }
   ],
   "source": [
    "plt.plot(x,y)\n",
    "plt.xlabel('Number of nodes')\n",
    "plt.ylabel('Accuracy')\n",
    "plt.show()"
   ]
  },
  {
   "cell_type": "markdown",
   "id": "d33e44db",
   "metadata": {},
   "source": [
    "# Question 4"
   ]
  },
  {
   "cell_type": "code",
   "execution_count": 34,
   "id": "e9cf0385",
   "metadata": {},
   "outputs": [],
   "source": [
    "root = classifier.get_root() # root of the classifier we are going to prune"
   ]
  },
  {
   "cell_type": "code",
   "execution_count": 35,
   "id": "6a5cdd88",
   "metadata": {},
   "outputs": [],
   "source": [
    "def prune(node,trav,acc,classifier):\n",
    "    \n",
    "    if((trav == 'up') and (node == None)):# if we reached traversing from bottom up then exit \n",
    "        return\n",
    "    else:# traversing downward until we reach leaf nodes\n",
    "        if(trav == 'down'):\n",
    "            left = node.left\n",
    "            right = node.right\n",
    "            if(left != None):\n",
    "                if (left.value == None):\n",
    "                    prune(left,'down',acc,classifier)\n",
    "                else:\n",
    "                    left.status = 1\n",
    "                    prune(node,'up',acc,classifier)\n",
    "            if(right != None):\n",
    "                if (right.value == None):\n",
    "                    prune(right,'down',acc,classifier)\n",
    "                else:\n",
    "                    right.status = 1\n",
    "                    prune(node,'up',acc,classifier)\n",
    "        elif(trav == 'up'): # pruning nodes while traversing upwards\n",
    "            d_set = node.dataset\n",
    "            Y = d_set[:,-1]\n",
    "            node.value = classifier.calculate_leaf_value(Y) # making the decision node into a leaf node\n",
    "            Y_pred = classifier.predict(X_test,root) # predicting the classification\n",
    "            curr_acc = accuracy_score(Y_test, Y_pred) # calculating the accuracy of the prediction\n",
    "            if(curr_acc > acc): # if new accuracy is greater then keep the decision node as leaf node\n",
    "                acc = curr_acc\n",
    "                classifier.nodes -= 2 # subtracting two nodes from the total number of nodes\n",
    "            else: # converting back to decision node\n",
    "                node.value = None\n",
    "                \n",
    "            prune(node.parent,'up',acc,classifier)"
   ]
  },
  {
   "cell_type": "code",
   "execution_count": 36,
   "id": "f95f82d6",
   "metadata": {},
   "outputs": [],
   "source": [
    "prune(root,'down',acc,classifier) # pruning the classifier"
   ]
  },
  {
   "cell_type": "code",
   "execution_count": 37,
   "id": "89638485",
   "metadata": {},
   "outputs": [
    {
     "name": "stdout",
     "output_type": "stream",
     "text": [
      "0.9074074074074074\n"
     ]
    }
   ],
   "source": [
    "Y_pred = classifier.predict(X_test,root)\n",
    "print(accuracy_score(Y_test, Y_pred))"
   ]
  },
  {
   "cell_type": "markdown",
   "id": "0669d3bf",
   "metadata": {},
   "source": [
    "# Question 5"
   ]
  },
  {
   "cell_type": "code",
   "execution_count": 45,
   "id": "57164d6c",
   "metadata": {},
   "outputs": [
    {
     "name": "stdout",
     "output_type": "stream",
     "text": [
      "Root\n",
      "Attribute: Chest Pain Type\n",
      "Information gain: 0.12949219768939335\n",
      "Spliting rule: If Attr = (4.0,) then left, If Attr = (1.0, 2.0, 3.0) then right\n",
      "|---->left: Attribute: No of major vessels colored by flourosopy\n",
      "             Information gain: 0.08370835528681225\n",
      "             Spliting rule: If Attr = (0.0,) then left, If Attr = (1.0, 2.0, 3.0) then right\n",
      "|-------->left: Attribute: thal\n",
      "                 Information gain: 0.16646610971644926\n",
      "                 Spliting rule: If Attr = (7.0,) then left, If Attr = (3.0, 6.0) then right\n",
      "|------------>left: 2.0 Presence of heart disease\n",
      "|------------>right:1.0 Absence of heart disease\n",
      "|-------->right:Attribute: Oldpeak\n",
      "                 Information gain: 0.020952913752913777\n",
      "                 Spliting rule: If Attr <= 0.2 then left, else right\n",
      "|------------>left: 2.0 Presence of heart disease\n",
      "|------------>right:2.0 Presence of heart disease\n",
      "|---->right:Attribute: thal\n",
      "             Information gain: 0.04586338950453961\n",
      "             Spliting rule: If Attr = (3.0,) then left, If Attr = (6.0, 7.0) then right\n",
      "|-------->left: Attribute: Oldpeak\n",
      "                 Information gain: 0.028887152882104944\n",
      "                 Spliting rule: If Attr <= 2.0 then left, else right\n",
      "|------------>left: 1.0 Absence of heart disease\n",
      "|------------>right:2.0 Presence of heart disease\n",
      "|-------->right:Attribute: Serum Cholestoral\n",
      "                 Information gain: 0.09182736455463741\n",
      "                 Spliting rule: If Attr <= 203.0 then left, else right\n",
      "|------------>left: 1.0 Absence of heart disease\n",
      "|------------>right:2.0 Presence of heart disease\n"
     ]
    }
   ],
   "source": [
    "best_classifier.print_tree() # Printing the Best classifier obtained in question 3"
   ]
  },
  {
   "cell_type": "code",
   "execution_count": null,
   "id": "3c59d9c1",
   "metadata": {},
   "outputs": [],
   "source": []
  }
 ],
 "metadata": {
  "kernelspec": {
   "display_name": "Python 3",
   "language": "python",
   "name": "python3"
  },
  "language_info": {
   "codemirror_mode": {
    "name": "ipython",
    "version": 3
   },
   "file_extension": ".py",
   "mimetype": "text/x-python",
   "name": "python",
   "nbconvert_exporter": "python",
   "pygments_lexer": "ipython3",
   "version": "3.7.6"
  }
 },
 "nbformat": 4,
 "nbformat_minor": 5
}
